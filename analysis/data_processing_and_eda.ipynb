{
 "cells": [
  {
   "cell_type": "code",
   "execution_count": 1,
   "id": "cc732c9a",
   "metadata": {},
   "outputs": [],
   "source": [
    "import pandas as pd\n",
    "import numpy as np\n",
    "import matplotlib.pyplot as plt\n",
    "import seaborn as sns"
   ]
  },
  {
   "cell_type": "code",
   "execution_count": 4,
   "id": "1472ce04",
   "metadata": {},
   "outputs": [],
   "source": [
    "# Load raw data\n",
    "flights = pd.read_csv('C:/Ela/Repositories/airline_revenue_analytics/data/flights.csv')\n",
    "customers = pd.read_csv('C:/Ela/Repositories/airline_revenue_analytics/data/customers.csv')\n",
    "bookings = pd.read_csv('C:/Ela/Repositories/airline_revenue_analytics/data/bookings.csv')"
   ]
  },
  {
   "cell_type": "code",
   "execution_count": null,
   "id": "237d8804",
   "metadata": {},
   "outputs": [],
   "source": []
  }
 ],
 "metadata": {
  "kernelspec": {
   "display_name": "base",
   "language": "python",
   "name": "python3"
  },
  "language_info": {
   "codemirror_mode": {
    "name": "ipython",
    "version": 3
   },
   "file_extension": ".py",
   "mimetype": "text/x-python",
   "name": "python",
   "nbconvert_exporter": "python",
   "pygments_lexer": "ipython3",
   "version": "3.11.5"
  }
 },
 "nbformat": 4,
 "nbformat_minor": 5
}
